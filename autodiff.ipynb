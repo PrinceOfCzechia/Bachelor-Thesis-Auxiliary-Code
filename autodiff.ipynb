{
 "cells": [
  {
   "cell_type": "markdown",
   "id": "fdb0449e",
   "metadata": {},
   "source": [
    "# autodiff to check handcalculated derivatives"
   ]
  },
  {
   "cell_type": "code",
   "execution_count": 792,
   "id": "b0cac0ba",
   "metadata": {},
   "outputs": [],
   "source": [
    "import numpy as np\n",
    "import mygrad as mg\n",
    "import random as rn"
   ]
  },
  {
   "cell_type": "markdown",
   "id": "a040f42c",
   "metadata": {},
   "source": [
    "### auxiliary code to refer to later"
   ]
  },
  {
   "cell_type": "code",
   "execution_count": 793,
   "id": "fa47ef18",
   "metadata": {},
   "outputs": [
    {
     "name": "stdout",
     "output_type": "stream",
     "text": [
      "6.0\n",
      "2.0\n",
      "1.0\n"
     ]
    }
   ],
   "source": [
    "x = mg.tensor(3.0)\n",
    "y = mg.tensor(1.0)\n",
    "z = mg.tensor(2.0)\n",
    "f = x**2 + y*z\n",
    "f.backward()\n",
    "# partial derivatives in the direction of x, y and z in this order\n",
    "print(x.grad)\n",
    "print(y.grad)\n",
    "print(z.grad)"
   ]
  },
  {
   "cell_type": "code",
   "execution_count": 794,
   "id": "e621b5a7",
   "metadata": {},
   "outputs": [
    {
     "name": "stdout",
     "output_type": "stream",
     "text": [
      "Tensor(7.)\n",
      "Tensor(6.1)\n",
      "Tensor(6.01)\n",
      "Tensor(6.001)\n",
      "Tensor(6.0001)\n",
      "Tensor(6.00001)\n",
      "Tensor(6.000001)\n",
      "Tensor(6.00000009)\n",
      "Tensor(5.99999996)\n"
     ]
    }
   ],
   "source": [
    "epsilon = 1\n",
    "for i in range(1,10):\n",
    "    print ( ( ( (x+epsilon)**2 + y*z ) - ( x**2 + y*z ) ) / epsilon )\n",
    "    epsilon /= 10"
   ]
  },
  {
   "cell_type": "markdown",
   "id": "bb599393",
   "metadata": {},
   "source": [
    "### derivatives of a vector"
   ]
  },
  {
   "cell_type": "code",
   "execution_count": 795,
   "id": "728f5820",
   "metadata": {},
   "outputs": [
    {
     "name": "stdout",
     "output_type": "stream",
     "text": [
      "f0\n",
      "4.0\n",
      "2.0\n"
     ]
    }
   ],
   "source": [
    "# I mean to do \\partial_x(f(x,y)), where f(x,y)=[2xy, e^x * y]\n",
    "x = mg.tensor(1.0)\n",
    "y = mg.tensor(2.0)\n",
    "f0 = 2*x*y\n",
    "\n",
    "f0.backward()\n",
    "print(\"f0\")\n",
    "print(x.grad)\n",
    "print(y.grad)"
   ]
  },
  {
   "cell_type": "code",
   "execution_count": 796,
   "id": "0d11b975",
   "metadata": {},
   "outputs": [
    {
     "name": "stdout",
     "output_type": "stream",
     "text": [
      "f1\n",
      "5.43656365691809\n",
      "2.718281828459045\n"
     ]
    }
   ],
   "source": [
    "f1 = mg.exp(x)*y\n",
    "f1.backward()\n",
    "print(\"f1\")\n",
    "print(x.grad)\n",
    "print(y.grad)"
   ]
  },
  {
   "cell_type": "markdown",
   "id": "4e2b02e3",
   "metadata": {},
   "source": [
    "# derivatives of L(x^1, ..., x^N)"
   ]
  },
  {
   "cell_type": "code",
   "execution_count": 797,
   "id": "ef69c383",
   "metadata": {},
   "outputs": [],
   "source": [
    "def delta( first, second ):\n",
    "    if( first is second ): return 1\n",
    "    else: return 0"
   ]
  },
  {
   "cell_type": "markdown",
   "id": "94103fe6",
   "metadata": {},
   "source": [
    "### centers of faces"
   ]
  },
  {
   "cell_type": "markdown",
   "id": "4d63bcd4",
   "metadata": {},
   "source": [
    "#### by the first component"
   ]
  },
  {
   "cell_type": "code",
   "execution_count": 798,
   "id": "23c47440",
   "metadata": {},
   "outputs": [
    {
     "name": "stdout",
     "output_type": "stream",
     "text": [
      "Tensor(3.5)\n"
     ]
    }
   ],
   "source": [
    "# the first vector\n",
    "x00 = mg.tensor( 5.0 )\n",
    "x01 = mg.tensor( 8.0 )\n",
    "# the second vector\n",
    "x10 = mg.tensor( 2.0 )\n",
    "x11 = mg.tensor( 3.0 )\n",
    "# the function x_sigma\n",
    "xs1 = 1/2 * ( x00 + x10 )\n",
    "xs2 = 1/2 * ( x01 + x11 )\n",
    "print(xs1)"
   ]
  },
  {
   "cell_type": "markdown",
   "id": "82152d9f",
   "metadata": {},
   "source": [
    "##### first component"
   ]
  },
  {
   "cell_type": "code",
   "execution_count": 799,
   "id": "d3569583",
   "metadata": {},
   "outputs": [
    {
     "name": "stdout",
     "output_type": "stream",
     "text": [
      "0.5\n",
      "0.5\n"
     ]
    }
   ],
   "source": [
    "xs1.backward()\n",
    "print(x00.grad)\n",
    "print(x10.grad)"
   ]
  },
  {
   "cell_type": "code",
   "execution_count": 800,
   "id": "8077e7bd",
   "metadata": {},
   "outputs": [
    {
     "name": "stdout",
     "output_type": "stream",
     "text": [
      "Tensor(0.5)\n",
      "Tensor(0.5)\n",
      "Tensor(0.5)\n",
      "Tensor(0.5)\n",
      "Tensor(0.5)\n",
      "Tensor(0.5)\n",
      "Tensor(0.5)\n",
      "Tensor(0.5)\n",
      "Tensor(0.5)\n"
     ]
    }
   ],
   "source": [
    "eps = 1\n",
    "for i in range(1,10):\n",
    "    print ( ( ( 1/2 * (x00 + eps + x10) ) - ( 1/2 * ( x00 + x10 ) ) ) / eps )\n",
    "    eps /= 10"
   ]
  },
  {
   "cell_type": "markdown",
   "id": "e4c01f04",
   "metadata": {},
   "source": [
    "##### second component (unsurprisingly zero)"
   ]
  },
  {
   "cell_type": "code",
   "execution_count": 801,
   "id": "8e1a2e5d",
   "metadata": {},
   "outputs": [
    {
     "name": "stdout",
     "output_type": "stream",
     "text": [
      "None\n",
      "None\n"
     ]
    }
   ],
   "source": [
    "x10 = mg.tensor( 2.0 )\n",
    "x11 = mg.tensor( 3.0 )\n",
    "xs2 = 1/2 * ( x01 + x11 )\n",
    "xs2.backward()\n",
    "print(x00.grad)\n",
    "print(x10.grad)"
   ]
  },
  {
   "cell_type": "markdown",
   "id": "9b3425e9",
   "metadata": {},
   "source": [
    "##### sort of calculation by definition of a derivative"
   ]
  },
  {
   "cell_type": "code",
   "execution_count": 802,
   "id": "bcf19864",
   "metadata": {},
   "outputs": [
    {
     "name": "stdout",
     "output_type": "stream",
     "text": [
      "Tensor(0.)\n",
      "Tensor(0.)\n",
      "Tensor(0.)\n",
      "Tensor(0.)\n",
      "Tensor(0.)\n",
      "Tensor(0.)\n",
      "Tensor(0.)\n",
      "Tensor(0.)\n",
      "Tensor(0.)\n"
     ]
    }
   ],
   "source": [
    "eps = 1\n",
    "for i in range(1,10):\n",
    "    print ( ( ( 1/2 * (x01 + x11) ) - ( 1/2 * ( x01 + x11 ) ) ) / eps )\n",
    "    eps /= 10"
   ]
  },
  {
   "cell_type": "markdown",
   "id": "4fc0cdfe",
   "metadata": {},
   "source": [
    "#### by the second component"
   ]
  },
  {
   "cell_type": "code",
   "execution_count": 803,
   "id": "c508a033",
   "metadata": {},
   "outputs": [],
   "source": [
    "# the first vector\n",
    "x00 = mg.tensor( 4000.0 )\n",
    "x01 = mg.tensor( 80.0 )\n",
    "# the second vector\n",
    "x10 = mg.tensor( -250.0 )\n",
    "x11 = mg.tensor( 3.0 )\n",
    "# the function x_sigma\n",
    "xs1 = 1/2 * ( x00 + x10 )\n",
    "xs2 = 1/2 * ( x01 + x11 )"
   ]
  },
  {
   "cell_type": "markdown",
   "id": "1b754e2b",
   "metadata": {},
   "source": [
    "##### the first component, again, this is zero"
   ]
  },
  {
   "cell_type": "code",
   "execution_count": 804,
   "id": "b3d04aee",
   "metadata": {},
   "outputs": [
    {
     "name": "stdout",
     "output_type": "stream",
     "text": [
      "None\n",
      "None\n"
     ]
    }
   ],
   "source": [
    "xs2 = 1/2 * ( x01 + x11 )\n",
    "xs2.backward()\n",
    "print(x00.grad)\n",
    "print(x10.grad)"
   ]
  },
  {
   "cell_type": "markdown",
   "id": "cd277d45",
   "metadata": {},
   "source": [
    "##### the second component"
   ]
  },
  {
   "cell_type": "code",
   "execution_count": 805,
   "id": "95f0f738",
   "metadata": {},
   "outputs": [
    {
     "name": "stdout",
     "output_type": "stream",
     "text": [
      "0.5\n",
      "0.5\n"
     ]
    }
   ],
   "source": [
    "xs2.backward()\n",
    "print(x01.grad)\n",
    "print(x11.grad)"
   ]
  },
  {
   "cell_type": "markdown",
   "id": "88154d3d",
   "metadata": {},
   "source": [
    "##### I hereby conclude, that the derivative of faces' centers is in deed the vector (1/2, 0) by the first component and (0, 1/2) by the second one"
   ]
  },
  {
   "cell_type": "markdown",
   "id": "28a20c4c",
   "metadata": {},
   "source": [
    "### face measures"
   ]
  },
  {
   "cell_type": "code",
   "execution_count": 806,
   "id": "521fb68a",
   "metadata": {},
   "outputs": [],
   "source": [
    "def m(x00, x01, x10, x11):\n",
    "    return mg.sqrt((x00-x10)**2+(x01-x11)**2)"
   ]
  },
  {
   "cell_type": "markdown",
   "id": "f013471f",
   "metadata": {},
   "source": [
    "###### test the function"
   ]
  },
  {
   "cell_type": "code",
   "execution_count": 807,
   "id": "6a3eb4b9",
   "metadata": {},
   "outputs": [
    {
     "name": "stdout",
     "output_type": "stream",
     "text": [
      "Tensor(10.)\n"
     ]
    }
   ],
   "source": [
    "print(m(12,16,6,8))"
   ]
  },
  {
   "cell_type": "markdown",
   "id": "6e0da1af",
   "metadata": {},
   "source": [
    "###### define the derivatives"
   ]
  },
  {
   "cell_type": "code",
   "execution_count": 808,
   "id": "cefdcb2a",
   "metadata": {},
   "outputs": [],
   "source": [
    "def dm1(x00, x01, x10, x11, j):\n",
    "    return 1/m(x00, x01, x10, x11) * (x10-x00) * (delta(x10, j) - delta(x00, j))\n",
    "def dm2(x00, x01, x10, x11, j):\n",
    "    return 1/m(x00, x01, x10, x11) * (x11-x01) * (delta(x11, j) - delta(x01, j))"
   ]
  },
  {
   "cell_type": "code",
   "execution_count": 809,
   "id": "005f5ab1",
   "metadata": {},
   "outputs": [
    {
     "name": "stdout",
     "output_type": "stream",
     "text": [
      "1\n"
     ]
    }
   ],
   "source": [
    "x00 = mg.tensor(50.0)\n",
    "x01 = mg.tensor(10.0)\n",
    "x10 = mg.tensor(40.0)\n",
    "x11 = mg.tensor(30.0)\n",
    "ms=m(x00, x01, x10, x11)\n",
    "print(delta(x01,x01))"
   ]
  },
  {
   "cell_type": "code",
   "execution_count": 810,
   "id": "214d8010",
   "metadata": {},
   "outputs": [
    {
     "name": "stdout",
     "output_type": "stream",
     "text": [
      "0.4472135954999579\n",
      "-0.4472135954999579\n",
      "Tensor(0.4472136)\n",
      "Tensor(-0.4472136)\n",
      "Tensor(0.)\n",
      "Tensor(0.)\n"
     ]
    }
   ],
   "source": [
    "ms.backward()\n",
    "print(x00.grad)\n",
    "print(x10.grad)\n",
    "print(dm1(x00,x01,x10,x11,x00))\n",
    "print(dm1(x00,x01,x10,x11,x10))\n",
    "print(dm2(x00,x01,x10,x11,x00))\n",
    "print(dm2(x00,x01,x10,x11,x10))"
   ]
  },
  {
   "cell_type": "markdown",
   "id": "5524af3e",
   "metadata": {},
   "source": [
    "##### robust test by generating random inputs"
   ]
  },
  {
   "cell_type": "code",
   "execution_count": 811,
   "id": "3d518125",
   "metadata": {},
   "outputs": [
    {
     "name": "stdout",
     "output_type": "stream",
     "text": [
      "0\n"
     ]
    }
   ],
   "source": [
    "count = 0\n",
    "for i in range(1000):\n",
    "    x00 = mg.tensor(rn.random()*100)\n",
    "    x01 = mg.tensor(rn.random()*100)\n",
    "    x10 = mg.tensor(rn.random()*100)\n",
    "    x11 = mg.tensor(rn.random()*100)\n",
    "    ms = m(x00, x01, x10, x11)\n",
    "    ms.backward()\n",
    "    num = x00.grad\n",
    "    difference = mg.abs(num - mg.tensor( dm1( x00, x01, x10, x11, x00 ) ) )\n",
    "    if( difference > 0.000001 ):\n",
    "        print(difference)\n",
    "        print('for values x00:' + str(x00) + ', x01: ' + str(x01) + ', x10: ' + str(x10) + ', x11: ' + str(x11))\n",
    "        count = count + 1\n",
    "print( count )"
   ]
  },
  {
   "cell_type": "code",
   "execution_count": 812,
   "id": "2420d3ff",
   "metadata": {},
   "outputs": [
    {
     "name": "stdout",
     "output_type": "stream",
     "text": [
      "0\n"
     ]
    }
   ],
   "source": [
    "count = 0\n",
    "for i in range(1000):\n",
    "    x00 = mg.tensor(rn.random()*100)\n",
    "    x01 = mg.tensor(rn.random()*100)\n",
    "    x10 = mg.tensor(rn.random()*100)\n",
    "    x11 = mg.tensor(rn.random()*100)\n",
    "    ms = m(x00, x01, x10, x11)\n",
    "    ms.backward()\n",
    "    num = x10.grad\n",
    "    difference = mg.abs(num - mg.tensor( dm1( x00, x01, x10, x11, x10 ) ) )\n",
    "    if( difference > 0.000001 ):\n",
    "        print(difference)\n",
    "        print('for values x00:' + str(x00) + ', x01: ' + str(x01) + ', x10: ' + str(x10) + ', x11: ' + str(x11))\n",
    "        count = count + 1\n",
    "print( count )"
   ]
  },
  {
   "cell_type": "code",
   "execution_count": 813,
   "id": "67ebe7e1",
   "metadata": {},
   "outputs": [
    {
     "name": "stdout",
     "output_type": "stream",
     "text": [
      "0\n"
     ]
    }
   ],
   "source": [
    "count = 0\n",
    "for i in range(1000):\n",
    "    x00 = mg.tensor(rn.random()*100)\n",
    "    x01 = mg.tensor(rn.random()*100)\n",
    "    x10 = mg.tensor(rn.random()*100)\n",
    "    x11 = mg.tensor(rn.random()*100)\n",
    "    ms = m(x00, x01, x10, x11)\n",
    "    ms.backward()\n",
    "    num = x01.grad\n",
    "    difference = mg.abs(num - mg.tensor( dm2( x00, x01, x10, x11, x01 ) ) )\n",
    "    if( difference > 0.000001 ):\n",
    "        print(difference)\n",
    "        print('for values x00:' + str(x00) + ', x01: ' + str(x01) + ', x10: ' + str(x10) + ', x11: ' + str(x11))\n",
    "        count = count + 1\n",
    "print( count )"
   ]
  },
  {
   "cell_type": "code",
   "execution_count": 814,
   "id": "b36ea65d",
   "metadata": {},
   "outputs": [
    {
     "name": "stdout",
     "output_type": "stream",
     "text": [
      "0\n"
     ]
    }
   ],
   "source": [
    "count = 0\n",
    "for i in range(1000):\n",
    "    x00 = mg.tensor(rn.random()*100)\n",
    "    x01 = mg.tensor(rn.random()*100)\n",
    "    x10 = mg.tensor(rn.random()*100)\n",
    "    x11 = mg.tensor(rn.random()*100)\n",
    "    ms = m(x00, x01, x10, x11)\n",
    "    ms.backward()\n",
    "    num = x11.grad\n",
    "    difference = mg.abs(num - mg.tensor( dm2( x00, x01, x10, x11, x11 ) ) )\n",
    "    if( difference > 0.000001 ):\n",
    "        print(difference)\n",
    "        print('for values x00:' + str(x00) + ', x01: ' + str(x01) + ', x10: ' + str(x10) + ', x11: ' + str(x11))\n",
    "        count = count + 1\n",
    "print( count )"
   ]
  },
  {
   "cell_type": "markdown",
   "id": "a7f322db",
   "metadata": {},
   "source": [
    "##### here, the derivative calculated by hand seems to be in line with the automatic derivative as well"
   ]
  },
  {
   "cell_type": "markdown",
   "id": "64c14b00",
   "metadata": {},
   "source": [
    "### normals"
   ]
  },
  {
   "cell_type": "code",
   "execution_count": 815,
   "id": "39c7e459",
   "metadata": {},
   "outputs": [],
   "source": [
    "def n0(x00, x01, x10, x11):\n",
    "    return 1/m(x00, x01, x10, x11) * (x11 - x01)\n",
    "def n1(x00, x01, x10, x11):\n",
    "    return 1/m(x00, x01, x10, x11) * (-1) * (x10 - x00)\n",
    "def n(x00, x01, x10, x11):\n",
    "    return [n0(x00, x01, x10, x11), n1(x00, x01, x10, x11)]"
   ]
  },
  {
   "cell_type": "markdown",
   "id": "32954876",
   "metadata": {},
   "source": [
    "###### test the function"
   ]
  },
  {
   "cell_type": "code",
   "execution_count": 816,
   "id": "3aeee169",
   "metadata": {},
   "outputs": [
    {
     "name": "stdout",
     "output_type": "stream",
     "text": [
      "[Tensor(0.70710678), Tensor(-0.70710678)]\n"
     ]
    }
   ],
   "source": [
    "x00 = mg.tensor(0.0)\n",
    "x01 = mg.tensor(0.0)\n",
    "x10 = mg.tensor(1.0)\n",
    "x11 = mg.tensor(1.0)\n",
    "print(n(x00, x01, x11, x10))"
   ]
  },
  {
   "cell_type": "markdown",
   "id": "a2e2e261",
   "metadata": {},
   "source": [
    "#### by the first component"
   ]
  },
  {
   "cell_type": "markdown",
   "id": "f933d735",
   "metadata": {},
   "source": [
    "###### define the handcalculated derivatives"
   ]
  },
  {
   "cell_type": "code",
   "execution_count": 817,
   "id": "2670947d",
   "metadata": {},
   "outputs": [],
   "source": [
    "def d0n00(x00, x01, x10, x11):\n",
    "    return 1/(m(x00, x01, x10, x11)**3) * (x10 - x00) * (x11 - x01) + 1/m(x00, x01, x10, x11) * 0\n",
    "def d0n10(x00, x01, x10, x11):\n",
    "    return -1/(m(x00, x01, x10, x11)**3) * (x10 - x00) * (x11 - x01) + 1/m(x00, x01, x10, x11) * 0\n",
    "def d0n01(x00, x01, x10, x11):\n",
    "    return 1/(m(x00, x01, x10, x11)**3) * (x10 - x00) * (x00 - x10) + 1/m(x00, x01, x10, x11) * 1\n",
    "def d0n11(x00, x01, x10, x11):\n",
    "    return -1/(m(x00, x01, x10, x11)**3) * (x10 - x00) * (x00 - x10) + 1/m(x00, x01, x10, x11) * (-1)"
   ]
  },
  {
   "cell_type": "markdown",
   "id": "4c7172ec",
   "metadata": {},
   "source": [
    "###### compare autodiff with derivatives by hand"
   ]
  },
  {
   "cell_type": "code",
   "execution_count": 818,
   "id": "5e186c28",
   "metadata": {},
   "outputs": [],
   "source": [
    "x00 = mg.tensor(40.0)\n",
    "x01 = mg.tensor(-30.0)\n",
    "x10 = mg.tensor(20.0)\n",
    "x11 = mg.tensor(-10.0)"
   ]
  },
  {
   "cell_type": "code",
   "execution_count": 819,
   "id": "fec47ade",
   "metadata": {},
   "outputs": [
    {
     "name": "stdout",
     "output_type": "stream",
     "text": [
      "-0.017677669529663688\n",
      "0.017677669529663688\n",
      "Tensor(-0.01767767)\n",
      "Tensor(0.01767767)\n"
     ]
    }
   ],
   "source": [
    "n0test = n0(x00, x01, x10, x11)\n",
    "n0test.backward()\n",
    "print(x00.grad)\n",
    "print(x10.grad)\n",
    "print(d0n00(x00, x01, x10, x11))\n",
    "print(d0n10(x00, x01, x10, x11))"
   ]
  },
  {
   "cell_type": "code",
   "execution_count": 820,
   "id": "d1a9f351",
   "metadata": {},
   "outputs": [
    {
     "name": "stdout",
     "output_type": "stream",
     "text": [
      "0.017677669529663688\n",
      "-0.017677669529663688\n",
      "Tensor(0.01767767)\n",
      "Tensor(-0.01767767)\n"
     ]
    }
   ],
   "source": [
    "n1test = n1(x00, x01, x10, x11)\n",
    "n1test.backward()\n",
    "print(x00.grad)\n",
    "print(x10.grad)\n",
    "print(d0n01(x00, x01, x10, x11))\n",
    "print(d0n11(x00, x01, x10, x11))"
   ]
  },
  {
   "cell_type": "markdown",
   "id": "bb9aa64b",
   "metadata": {},
   "source": [
    "##### automated random testing"
   ]
  },
  {
   "cell_type": "code",
   "execution_count": 821,
   "id": "f0ce6f8f",
   "metadata": {},
   "outputs": [
    {
     "name": "stdout",
     "output_type": "stream",
     "text": [
      "0\n"
     ]
    }
   ],
   "source": [
    "count = 0\n",
    "for i in range(1000):\n",
    "    x00 = mg.tensor(rn.random()*100)\n",
    "    x01 = mg.tensor(rn.random()*100)\n",
    "    x10 = mg.tensor(rn.random()*100)\n",
    "    x11 = mg.tensor(rn.random()*100)\n",
    "    n0test = n0(x00, x01, x10, x11)\n",
    "    n0test.backward()\n",
    "    num = x00.grad\n",
    "    difference = mg.abs(num - mg.tensor( d0n00( x00, x01, x10, x11 ) ) )\n",
    "    if( difference > 0.000001 ):\n",
    "        print(difference)\n",
    "        print('for values x00:' + str(x00) + ', x01: ' + str(x01) + ', x10: ' + str(x10) + ', x11: ' + str(x11))\n",
    "        count = count + 1\n",
    "print( count )"
   ]
  },
  {
   "cell_type": "code",
   "execution_count": 822,
   "id": "32309a57",
   "metadata": {},
   "outputs": [
    {
     "name": "stdout",
     "output_type": "stream",
     "text": [
      "0\n"
     ]
    }
   ],
   "source": [
    "count = 0\n",
    "for i in range(1000):\n",
    "    x00 = mg.tensor(rn.random()*100)\n",
    "    x01 = mg.tensor(rn.random()*100)\n",
    "    x10 = mg.tensor(rn.random()*100)\n",
    "    x11 = mg.tensor(rn.random()*100)\n",
    "    n0test = n0(x00, x01, x10, x11)\n",
    "    n0test.backward()\n",
    "    num = x10.grad\n",
    "    difference = mg.abs(num - mg.tensor( d0n10( x00, x01, x10, x11 ) ) )\n",
    "    if( difference > 0.000001 ):\n",
    "        print(difference)\n",
    "        print('for values x00:' + str(x00) + ', x01: ' + str(x01) + ', x10: ' + str(x10) + ', x11: ' + str(x11))\n",
    "        count = count + 1\n",
    "print( count )"
   ]
  },
  {
   "cell_type": "code",
   "execution_count": 823,
   "id": "50d9b875",
   "metadata": {},
   "outputs": [
    {
     "name": "stdout",
     "output_type": "stream",
     "text": [
      "0\n"
     ]
    }
   ],
   "source": [
    "count = 0\n",
    "for i in range(1000):\n",
    "    x00 = mg.tensor(rn.random()*100)\n",
    "    x01 = mg.tensor(rn.random()*100)\n",
    "    x10 = mg.tensor(rn.random()*100)\n",
    "    x11 = mg.tensor(rn.random()*100)\n",
    "    n1test = n1(x00, x01, x10, x11)\n",
    "    n1test.backward()\n",
    "    num = x00.grad\n",
    "    difference = mg.abs(num - mg.tensor( d0n01( x00, x01, x10, x11 ) ) )\n",
    "    if( difference > 0.000001 ):\n",
    "        print(difference)\n",
    "        print('for values x00:' + str(x00) + ', x01: ' + str(x01) + ', x10: ' + str(x10) + ', x11: ' + str(x11))\n",
    "        count = count + 1\n",
    "print( count )"
   ]
  },
  {
   "cell_type": "code",
   "execution_count": 824,
   "id": "9399acf2",
   "metadata": {},
   "outputs": [
    {
     "name": "stdout",
     "output_type": "stream",
     "text": [
      "0\n"
     ]
    }
   ],
   "source": [
    "count = 0\n",
    "for i in range(1000):\n",
    "    x00 = mg.tensor(rn.random()*100)\n",
    "    x01 = mg.tensor(rn.random()*100)\n",
    "    x10 = mg.tensor(rn.random()*100)\n",
    "    x11 = mg.tensor(rn.random()*100)\n",
    "    n1test = n1(x00, x01, x10, x11)\n",
    "    n1test.backward()\n",
    "    num = x10.grad\n",
    "    difference = mg.abs(num - mg.tensor( d0n11( x00, x01, x10, x11 ) ) )\n",
    "    if( difference > 0.000001 ):\n",
    "        print(difference)\n",
    "        print('for values x00:' + str(x00) + ', x01: ' + str(x01) + ', x10: ' + str(x10) + ', x11: ' + str(x11))\n",
    "        count = count + 1\n",
    "print( count )"
   ]
  },
  {
   "cell_type": "markdown",
   "id": "e6fa27dd",
   "metadata": {},
   "source": [
    "#### by the second component"
   ]
  },
  {
   "cell_type": "code",
   "execution_count": 825,
   "id": "55180a29",
   "metadata": {},
   "outputs": [],
   "source": [
    "x00 = mg.tensor(40.0)\n",
    "x01 = mg.tensor(-30.0)\n",
    "x10 = mg.tensor(20.0)\n",
    "x11 = mg.tensor(-10.0)"
   ]
  },
  {
   "cell_type": "markdown",
   "id": "cb7e1cf8",
   "metadata": {},
   "source": [
    "##### define the handcalculated derivatives"
   ]
  },
  {
   "cell_type": "code",
   "execution_count": 830,
   "id": "5c8a0253",
   "metadata": {},
   "outputs": [],
   "source": [
    "def d0n00(x00, x01, x10, x11):\n",
    "    return 1/(m(x00, x01, x10, x11)**3) * (x10 - x00) * (x11 - x01) + 1/m(x00, x01, x10, x11) * 0\n",
    "def d0n10(x00, x01, x10, x11):\n",
    "    return -1/(m(x00, x01, x10, x11)**3) * (x10 - x00) * (x11 - x01) + 1/m(x00, x01, x10, x11) * 0\n",
    "def d0n01(x00, x01, x10, x11):\n",
    "    return 1/(m(x00, x01, x10, x11)**3) * (x10 - x00) * (x00 - x10) + 1/m(x00, x01, x10, x11) * 1\n",
    "def d0n11(x00, x01, x10, x11):\n",
    "    return -1/(m(x00, x01, x10, x11)**3) * (x10 - x00) * (x00 - x10) + 1/m(x00, x01, x10, x11) * (-1)"
   ]
  },
  {
   "cell_type": "code",
   "execution_count": 826,
   "id": "8fd4da3f",
   "metadata": {},
   "outputs": [],
   "source": [
    "def d1n00(x00, x01, x10, x11):\n",
    "    return 1/(m(x00, x01, x10, x11)**3) * (x11 - x01) * (x11 - x01) + 1/m(x00, x01, x10, x11) * (-1)\n",
    "def d1n10(x00, x01, x10, x11):\n",
    "    return -1/(m(x00, x01, x10, x11)**3) * (x11 - x01) * (x11 - x01) + 1/m(x00, x01, x10, x11) * 1\n",
    "def d1n01(x00, x01, x10, x11):\n",
    "    return 1/(m(x00, x01, x10, x11)**3) * (x11 - x01) * (x00 - x10) + 1/m(x00, x01, x10, x11) * 0\n",
    "def d1n11(x00, x01, x10, x11):\n",
    "    return -1/(m(x00, x01, x10, x11)**3) * (x11 - x01) * (x00 - x10) + 1/m(x00, x01, x10, x11) * 0"
   ]
  },
  {
   "cell_type": "markdown",
   "id": "bd7aa9b1",
   "metadata": {},
   "source": [
    "##### test"
   ]
  },
  {
   "cell_type": "code",
   "execution_count": 831,
   "id": "c1b813f7",
   "metadata": {},
   "outputs": [
    {
     "name": "stdout",
     "output_type": "stream",
     "text": [
      "-3.395354806539838e-06\n",
      "3.395354806539838e-06\n",
      "Tensor(-3.39535481e-06)\n",
      "Tensor(3.39535481e-06)\n"
     ]
    }
   ],
   "source": [
    "n0test = n0(x00, x01, x10, x11)\n",
    "n0test.backward()\n",
    "print(x01.grad)\n",
    "print(x11.grad)\n",
    "print(d1n00(x00, x01, x10, x11))\n",
    "print(d1n10(x00, x01, x10, x11))"
   ]
  },
  {
   "cell_type": "code",
   "execution_count": 832,
   "id": "bc9ced8d",
   "metadata": {},
   "outputs": [
    {
     "name": "stdout",
     "output_type": "stream",
     "text": [
      "0.00018654725605780093\n",
      "-0.00018654725605780093\n",
      "Tensor(0.00018655)\n",
      "Tensor(-0.00018655)\n"
     ]
    }
   ],
   "source": [
    "n1test = n1(x00, x01, x10, x11)\n",
    "n1test.backward()\n",
    "print(x01.grad)\n",
    "print(x11.grad)\n",
    "print(d1n01(x00, x01, x10, x11))\n",
    "print(d1n11(x00, x01, x10, x11))"
   ]
  },
  {
   "cell_type": "code",
   "execution_count": 834,
   "id": "bef98139",
   "metadata": {},
   "outputs": [
    {
     "name": "stdout",
     "output_type": "stream",
     "text": [
      "0\n"
     ]
    }
   ],
   "source": [
    "count = 0\n",
    "for i in range(1000):\n",
    "    x00 = mg.tensor(rn.random()*100)\n",
    "    x01 = mg.tensor(rn.random()*100)\n",
    "    x10 = mg.tensor(rn.random()*100)\n",
    "    x11 = mg.tensor(rn.random()*100)\n",
    "    n0test = n0(x00, x01, x10, x11)\n",
    "    n0test.backward()\n",
    "    num = x01.grad\n",
    "    difference = mg.abs(num - mg.tensor( d1n00( x00, x01, x10, x11 ) ) )\n",
    "    if( difference > 0.000001 ):\n",
    "        print(difference)\n",
    "        print('for values x00:' + str(x00) + ', x01: ' + str(x01) + ', x10: ' + str(x10) + ', x11: ' + str(x11))\n",
    "        count = count + 1\n",
    "print( count )"
   ]
  },
  {
   "cell_type": "code",
   "execution_count": 836,
   "id": "96d2b3a9",
   "metadata": {},
   "outputs": [
    {
     "name": "stdout",
     "output_type": "stream",
     "text": [
      "0\n"
     ]
    }
   ],
   "source": [
    "count = 0\n",
    "for i in range(1000):\n",
    "    x00 = mg.tensor(rn.random()*100)\n",
    "    x01 = mg.tensor(rn.random()*100)\n",
    "    x10 = mg.tensor(rn.random()*100)\n",
    "    x11 = mg.tensor(rn.random()*100)\n",
    "    n0test = n0(x00, x01, x10, x11)\n",
    "    n0test.backward()\n",
    "    num = x11.grad\n",
    "    difference = mg.abs(num - mg.tensor( d1n10( x00, x01, x10, x11 ) ) )\n",
    "    if( difference > 0.000001 ):\n",
    "        print(difference)\n",
    "        print('for values x00:' + str(x00) + ', x01: ' + str(x01) + ', x10: ' + str(x10) + ', x11: ' + str(x11))\n",
    "        count = count + 1\n",
    "print( count )"
   ]
  },
  {
   "cell_type": "code",
   "execution_count": 837,
   "id": "ff5373a1",
   "metadata": {},
   "outputs": [
    {
     "name": "stdout",
     "output_type": "stream",
     "text": [
      "0\n"
     ]
    }
   ],
   "source": [
    "count = 0\n",
    "for i in range(1000):\n",
    "    x00 = mg.tensor(rn.random()*100)\n",
    "    x01 = mg.tensor(rn.random()*100)\n",
    "    x10 = mg.tensor(rn.random()*100)\n",
    "    x11 = mg.tensor(rn.random()*100)\n",
    "    n1test = n1(x00, x01, x10, x11)\n",
    "    n1test.backward()\n",
    "    num = x01.grad\n",
    "    difference = mg.abs(num - mg.tensor( d1n01( x00, x01, x10, x11 ) ) )\n",
    "    if( difference > 0.000001 ):\n",
    "        print(difference)\n",
    "        print('for values x00:' + str(x00) + ', x01: ' + str(x01) + ', x10: ' + str(x10) + ', x11: ' + str(x11))\n",
    "        count = count + 1\n",
    "print( count )"
   ]
  },
  {
   "cell_type": "code",
   "execution_count": 838,
   "id": "b87a1145",
   "metadata": {},
   "outputs": [
    {
     "name": "stdout",
     "output_type": "stream",
     "text": [
      "0\n"
     ]
    }
   ],
   "source": [
    "count = 0\n",
    "for i in range(1000):\n",
    "    x00 = mg.tensor(rn.random()*100)\n",
    "    x01 = mg.tensor(rn.random()*100)\n",
    "    x10 = mg.tensor(rn.random()*100)\n",
    "    x11 = mg.tensor(rn.random()*100)\n",
    "    n1test = n1(x00, x01, x10, x11)\n",
    "    n1test.backward()\n",
    "    num = x11.grad\n",
    "    difference = mg.abs(num - mg.tensor( d1n11( x00, x01, x10, x11 ) ) )\n",
    "    if( difference > 0.000001 ):\n",
    "        print(difference)\n",
    "        print('for values x00:' + str(x00) + ', x01: ' + str(x01) + ', x10: ' + str(x10) + ', x11: ' + str(x11))\n",
    "        count = count + 1\n",
    "print( count )"
   ]
  },
  {
   "cell_type": "markdown",
   "id": "ac9b1e83",
   "metadata": {},
   "source": [
    "### cell measures"
   ]
  },
  {
   "cell_type": "code",
   "execution_count": 599,
   "id": "e306c9e1",
   "metadata": {},
   "outputs": [],
   "source": [
    "def S0(x00, x01, x10, x11, x20, x21):\n",
    "    return x20*x11 - x00*x11 - x20*x01 - x10*x21 + x10*x01 + x00*x21\n",
    "def S(x00, x01, x10, x11, x20, x21):\n",
    "    if(S0(x00, x01, x10, x11, x20, x21) > 0): return 1\n",
    "    elif(S0(x00, x01, x10, x11, x20, x21) < 0): return -1\n",
    "    else: return 0"
   ]
  },
  {
   "cell_type": "code",
   "execution_count": 600,
   "id": "8069f89c",
   "metadata": {},
   "outputs": [],
   "source": [
    "def m2(x00, x01, x10, x11, x20, x21):\n",
    "    return mg.abs(S0(x00, x01, x10, x11, x20, x21)) / 2"
   ]
  },
  {
   "cell_type": "markdown",
   "id": "918e7ae6",
   "metadata": {},
   "source": [
    "###### test the function"
   ]
  },
  {
   "cell_type": "code",
   "execution_count": 610,
   "id": "04e45448",
   "metadata": {},
   "outputs": [
    {
     "name": "stdout",
     "output_type": "stream",
     "text": [
      "Tensor(550.)\n",
      "-5.0\n",
      "-15.0\n",
      "10.0\n",
      "-25.0\n",
      "-5.0\n",
      "40.0\n"
     ]
    }
   ],
   "source": [
    "x00 = mg.tensor(10.0)\n",
    "x01 = mg.tensor(20.0)\n",
    "x10 = mg.tensor(90.0)\n",
    "x11 = mg.tensor(30.0)\n",
    "x20 = mg.tensor(60.0)\n",
    "x21 = mg.tensor(40.0)\n",
    "print(m2(x00, x01, x10, x11, x20, x21))\n",
    "m2test = m2(x00, x01, x10, x11, x20, x21)\n",
    "m2test.backward()\n",
    "print(x00.grad)\n",
    "print(x01.grad)\n",
    "print(x10.grad)\n",
    "print(x11.grad)\n",
    "print(x20.grad)\n",
    "print(x21.grad)"
   ]
  },
  {
   "cell_type": "markdown",
   "id": "5c765647",
   "metadata": {},
   "source": [
    "#### by the first component"
   ]
  },
  {
   "cell_type": "code",
   "execution_count": 611,
   "id": "5538b3b6",
   "metadata": {},
   "outputs": [],
   "source": [
    "def d00m2(x00, x01, x10, x11, x20, x21):\n",
    "    return -1/(2*m2(x00,x01,x10,x11,x20,x21)**2)*S(x00,x01,x10,x11,x20,x21)*(-x11+x21)\n",
    "def d10m2(x00, x01, x10, x11, x20, x21):\n",
    "    return -1/(2*m2(x00,x01,x10,x11,x20,x21)**2)*S(x00,x01,x10,x11,x20,x21)*(-x21+x01)\n",
    "def d20m2(x00, x01, x10, x11, x20, x21):\n",
    "    return -1/(2*m2(x00,x01,x10,x11,x20,x21)**2)*S(x00,x01,x10,x11,x20,x21)*(-x01+x11)"
   ]
  },
  {
   "cell_type": "code",
   "execution_count": 612,
   "id": "53fa6df1",
   "metadata": {},
   "outputs": [
    {
     "name": "stdout",
     "output_type": "stream",
     "text": [
      "1.6528925619834715e-05\n",
      "-3.305785123966942e-05\n",
      "1.6528925619834708e-05\n",
      "Tensor(1.65289256e-05)\n",
      "Tensor(-3.30578512e-05)\n",
      "Tensor(1.65289256e-05)\n"
     ]
    }
   ],
   "source": [
    "m2test_inverted = 1/m2(x00, x01, x10, x11, x20, x21)\n",
    "m2test_inverted.backward()\n",
    "print(x00.grad)\n",
    "print(x10.grad)\n",
    "print(x20.grad)\n",
    "print(d00m2(x00, x01, x10, x11, x20, x21))\n",
    "print(d10m2(x00, x01, x10, x11, x20, x21))\n",
    "print(d20m2(x00, x01, x10, x11, x20, x21))"
   ]
  },
  {
   "cell_type": "code",
   "execution_count": 732,
   "id": "8f742bfe",
   "metadata": {},
   "outputs": [
    {
     "name": "stdout",
     "output_type": "stream",
     "text": [
      "0\n",
      "0\n",
      "0\n"
     ]
    }
   ],
   "source": [
    "count = 0\n",
    "for i in range(1000):\n",
    "    x00 = mg.tensor(rn.random()*100)\n",
    "    x01 = mg.tensor(rn.random()*100)\n",
    "    x10 = mg.tensor(rn.random()*100)\n",
    "    x11 = mg.tensor(rn.random()*100)\n",
    "    x20 = mg.tensor(rn.random()*100)\n",
    "    x21 = mg.tensor(rn.random()*100)\n",
    "    m2test_inverted = 1/m2(x00, x01, x10, x11, x20, x21)\n",
    "    m2test_inverted.backward()\n",
    "    num = x00.grad\n",
    "    difference = mg.abs(num - mg.tensor( d00m2( x00, x01, x10, x11, x20, x21 ) ) )\n",
    "    if( difference > 0.000001 ):\n",
    "        print(difference)\n",
    "        print('for values x00:' + str(x00) + ', x01: ' + str(x01) +\n",
    "              ', x10: ' + str(x10) + ', x11: ' + str(x11) +\n",
    "              ', x20 ' + str(x20) + ', x21:' + str(x21))\n",
    "        count = count + 1\n",
    "print( count )\n",
    "\n",
    "count = 0\n",
    "for i in range(1000):\n",
    "    x00 = mg.tensor(rn.random()*100)\n",
    "    x01 = mg.tensor(rn.random()*100)\n",
    "    x10 = mg.tensor(rn.random()*100)\n",
    "    x11 = mg.tensor(rn.random()*100)\n",
    "    x20 = mg.tensor(rn.random()*100)\n",
    "    x21 = mg.tensor(rn.random()*100)\n",
    "    m2test_inverted = 1/m2(x00, x01, x10, x11, x20, x21)\n",
    "    m2test_inverted.backward()\n",
    "    num = x10.grad\n",
    "    difference = mg.abs(num - mg.tensor( d10m2( x00, x01, x10, x11, x20, x21 ) ) )\n",
    "    if( difference > 0.000001 ):\n",
    "        print(difference)\n",
    "        print('for values x00:' + str(x00) + ', x01: ' + str(x01) +\n",
    "              ', x10: ' + str(x10) + ', x11: ' + str(x11) +\n",
    "              ', x20 ' + str(x20) + ', x21:' + str(x21))        \n",
    "        count = count + 1\n",
    "print( count )\n",
    "\n",
    "count = 0\n",
    "for i in range(1000):\n",
    "    x00 = mg.tensor(rn.random()*100)\n",
    "    x01 = mg.tensor(rn.random()*100)\n",
    "    x10 = mg.tensor(rn.random()*100)\n",
    "    x11 = mg.tensor(rn.random()*100)\n",
    "    x20 = mg.tensor(rn.random()*100)\n",
    "    x21 = mg.tensor(rn.random()*100)\n",
    "    m2test_inverted = 1/m2(x00, x01, x10, x11, x20, x21)\n",
    "    m2test_inverted.backward()\n",
    "    num = x20.grad\n",
    "    difference = mg.abs(num - mg.tensor( d20m2( x00, x01, x10, x11, x20, x21 ) ) )\n",
    "    if( difference > 0.000001 ):\n",
    "        print(difference)\n",
    "        print('for values x00:' + str(x00) + ', x01: ' + str(x01) +\n",
    "              ', x10: ' + str(x10) + ', x11: ' + str(x11) +\n",
    "              ', x20 ' + str(x20) + ', x21:' + str(x21))        \n",
    "        count = count + 1\n",
    "print( count )"
   ]
  },
  {
   "cell_type": "markdown",
   "id": "5cf69307",
   "metadata": {},
   "source": [
    "#### by the second component"
   ]
  },
  {
   "cell_type": "code",
   "execution_count": 613,
   "id": "851c0ca6",
   "metadata": {},
   "outputs": [],
   "source": [
    "def d01m2(x00, xo01, x10, x11, x20, x21):\n",
    "    return -1/(2*m2(x00,x01,x10,x11,x20,x21)**2)*S(x00,x01,x10,x11,x20,x21)*(-x20+x10)\n",
    "def d11m2(x00, xo01, x10, x11, x20, x21):\n",
    "    return -1/(2*m2(x00,x01,x10,x11,x20,x21)**2)*S(x00,x01,x10,x11,x20,x21)*(-x00+x20)\n",
    "def d21m2(x00, xo01, x10, x11, x20, x21):\n",
    "    return -1/(2*m2(x00,x01,x10,x11,x20,x21)**2)*S(x00,x01,x10,x11,x20,x21)*(-x10+x00)"
   ]
  },
  {
   "cell_type": "code",
   "execution_count": 609,
   "id": "21305a11",
   "metadata": {},
   "outputs": [
    {
     "name": "stdout",
     "output_type": "stream",
     "text": [
      "-1.7777777777777777\n",
      "2.0\n",
      "-0.22222222222222232\n",
      "Tensor(-1.77777778)\n",
      "Tensor(2.)\n",
      "Tensor(-0.22222222)\n"
     ]
    }
   ],
   "source": [
    "m2test_inverted = 1/m2(x00, x01, x10, x11, x20, x21)\n",
    "m2test_inverted.backward()\n",
    "print(x01.grad)\n",
    "print(x11.grad)\n",
    "print(x21.grad)\n",
    "print(d01m2(x00, x01, x10, x11, x20, x21))\n",
    "print(d11m2(x00, x01, x10, x11, x20, x21))\n",
    "print(d21m2(x00, x01, x10, x11, x20, x21))"
   ]
  },
  {
   "cell_type": "code",
   "execution_count": 733,
   "id": "5b26a33f",
   "metadata": {},
   "outputs": [
    {
     "name": "stdout",
     "output_type": "stream",
     "text": [
      "0\n",
      "0\n",
      "0\n"
     ]
    }
   ],
   "source": [
    "count = 0\n",
    "for i in range(1000):\n",
    "    x00 = mg.tensor(rn.random()*100)\n",
    "    x01 = mg.tensor(rn.random()*100)\n",
    "    x10 = mg.tensor(rn.random()*100)\n",
    "    x11 = mg.tensor(rn.random()*100)\n",
    "    x20 = mg.tensor(rn.random()*100)\n",
    "    x21 = mg.tensor(rn.random()*100)\n",
    "    m2test_inverted = 1/m2(x00, x01, x10, x11, x20, x21)\n",
    "    m2test_inverted.backward()\n",
    "    num = x01.grad\n",
    "    difference = mg.abs(num - mg.tensor( d01m2( x00, x01, x10, x11, x20, x21 ) ) )\n",
    "    if( difference > 0.000001 ):\n",
    "        print(difference)\n",
    "        print('for values x00:' + str(x00) + ', x01: ' + str(x01) +\n",
    "              ', x10: ' + str(x10) + ', x11: ' + str(x11) +\n",
    "              ', x20 ' + str(x20) + ', x21:' + str(x21))\n",
    "        count = count + 1\n",
    "print( count )\n",
    "\n",
    "count = 0\n",
    "for i in range(1000):\n",
    "    x00 = mg.tensor(rn.random()*100)\n",
    "    x01 = mg.tensor(rn.random()*100)\n",
    "    x10 = mg.tensor(rn.random()*100)\n",
    "    x11 = mg.tensor(rn.random()*100)\n",
    "    x20 = mg.tensor(rn.random()*100)\n",
    "    x21 = mg.tensor(rn.random()*100)\n",
    "    m2test_inverted = 1/m2(x00, x01, x10, x11, x20, x21)\n",
    "    m2test_inverted.backward()\n",
    "    num = x11.grad\n",
    "    difference = mg.abs(num - mg.tensor( d11m2( x00, x01, x10, x11, x20, x21 ) ) )\n",
    "    if( difference > 0.000001 ):\n",
    "        print(difference)\n",
    "        print('for values x00:' + str(x00) + ', x01: ' + str(x01) +\n",
    "              ', x10: ' + str(x10) + ', x11: ' + str(x11) +\n",
    "              ', x20 ' + str(x20) + ', x21:' + str(x21))        \n",
    "        count = count + 1\n",
    "print( count )\n",
    "\n",
    "count = 0\n",
    "for i in range(1000):\n",
    "    x00 = mg.tensor(rn.random()*100)\n",
    "    x01 = mg.tensor(rn.random()*100)\n",
    "    x10 = mg.tensor(rn.random()*100)\n",
    "    x11 = mg.tensor(rn.random()*100)\n",
    "    x20 = mg.tensor(rn.random()*100)\n",
    "    x21 = mg.tensor(rn.random()*100)\n",
    "    m2test_inverted = 1/m2(x00, x01, x10, x11, x20, x21)\n",
    "    m2test_inverted.backward()\n",
    "    num = x21.grad\n",
    "    difference = mg.abs(num - mg.tensor( d21m2( x00, x01, x10, x11, x20, x21 ) ) )\n",
    "    if( difference > 0.000001 ):\n",
    "        print(difference)\n",
    "        print('for values x00:' + str(x00) + ', x01: ' + str(x01) +\n",
    "              ', x10: ' + str(x10) + ', x11: ' + str(x11) +\n",
    "              ', x20 ' + str(x20) + ', x21:' + str(x21))        \n",
    "        count = count + 1\n",
    "print( count )"
   ]
  },
  {
   "cell_type": "code",
   "execution_count": null,
   "id": "8c013688",
   "metadata": {},
   "outputs": [],
   "source": []
  }
 ],
 "metadata": {
  "kernelspec": {
   "display_name": "Python 3 (ipykernel)",
   "language": "python",
   "name": "python3"
  },
  "language_info": {
   "codemirror_mode": {
    "name": "ipython",
    "version": 3
   },
   "file_extension": ".py",
   "mimetype": "text/x-python",
   "name": "python",
   "nbconvert_exporter": "python",
   "pygments_lexer": "ipython3",
   "version": "3.10.6"
  }
 },
 "nbformat": 4,
 "nbformat_minor": 5
}
